{
 "cells": [
  {
   "cell_type": "code",
   "execution_count": 10,
   "id": "4c895387",
   "metadata": {},
   "outputs": [],
   "source": [
    "b='ch'"
   ]
  },
  {
   "cell_type": "code",
   "execution_count": 11,
   "id": "f014bbd9",
   "metadata": {},
   "outputs": [
    {
     "data": {
      "text/plain": [
       "str"
      ]
     },
     "execution_count": 11,
     "metadata": {},
     "output_type": "execute_result"
    }
   ],
   "source": [
    "type(b)"
   ]
  },
  {
   "cell_type": "code",
   "execution_count": 12,
   "id": "90b94841",
   "metadata": {},
   "outputs": [],
   "source": [
    "c=9.18"
   ]
  },
  {
   "cell_type": "code",
   "execution_count": 13,
   "id": "335bba45",
   "metadata": {},
   "outputs": [
    {
     "data": {
      "text/plain": [
       "9"
      ]
     },
     "execution_count": 13,
     "metadata": {},
     "output_type": "execute_result"
    }
   ],
   "source": [
    "int(c)"
   ]
  },
  {
   "cell_type": "code",
   "execution_count": 14,
   "id": "817b33d3",
   "metadata": {},
   "outputs": [],
   "source": [
    "d=False"
   ]
  },
  {
   "cell_type": "code",
   "execution_count": 15,
   "id": "746fbb5b",
   "metadata": {},
   "outputs": [
    {
     "data": {
      "text/plain": [
       "bool"
      ]
     },
     "execution_count": 15,
     "metadata": {},
     "output_type": "execute_result"
    }
   ],
   "source": [
    "type(d)"
   ]
  },
  {
   "cell_type": "code",
   "execution_count": 16,
   "id": "05849f6e",
   "metadata": {},
   "outputs": [],
   "source": [
    "e=9.08"
   ]
  },
  {
   "cell_type": "code",
   "execution_count": 17,
   "id": "7363e3bd",
   "metadata": {},
   "outputs": [
    {
     "name": "stdout",
     "output_type": "stream",
     "text": [
      "8ch\n"
     ]
    }
   ],
   "source": [
    "print(str(a)+b)"
   ]
  },
  {
   "cell_type": "code",
   "execution_count": 18,
   "id": "09f468cb",
   "metadata": {},
   "outputs": [
    {
     "data": {
      "text/plain": [
       "'TED\"x\"organizers'"
      ]
     },
     "execution_count": 18,
     "metadata": {},
     "output_type": "execute_result"
    }
   ],
   "source": [
    "'TED\\\"x\\\"organizers'"
   ]
  },
  {
   "cell_type": "code",
   "execution_count": 19,
   "id": "7941dc67",
   "metadata": {},
   "outputs": [
    {
     "data": {
      "text/plain": [
       "'RedCar'"
      ]
     },
     "execution_count": 19,
     "metadata": {},
     "output_type": "execute_result"
    }
   ],
   "source": [
    "'Red' 'Car'"
   ]
  },
  {
   "cell_type": "code",
   "execution_count": 20,
   "id": "b3893020",
   "metadata": {},
   "outputs": [
    {
     "data": {
      "text/plain": [
       "'Joshua'"
      ]
     },
     "execution_count": 20,
     "metadata": {},
     "output_type": "execute_result"
    }
   ],
   "source": [
    "x=\"Joshua\"\n",
    "x"
   ]
  },
  {
   "cell_type": "code",
   "execution_count": 21,
   "id": "6d576713",
   "metadata": {},
   "outputs": [
    {
     "data": {
      "text/plain": [
       "10000000000"
      ]
     },
     "execution_count": 21,
     "metadata": {},
     "output_type": "execute_result"
    }
   ],
   "source": [
    "10**10"
   ]
  },
  {
   "cell_type": "code",
   "execution_count": 22,
   "id": "f7f3354e",
   "metadata": {},
   "outputs": [],
   "source": [
    "#you're an asshole"
   ]
  },
  {
   "cell_type": "code",
   "execution_count": 24,
   "id": "f0f9b05a",
   "metadata": {},
   "outputs": [
    {
     "data": {
      "text/plain": [
       "130.74143083142906"
      ]
     },
     "execution_count": 24,
     "metadata": {},
     "output_type": "execute_result"
    }
   ],
   "source": [
    "n=a*5+99.07/56.89\\\n",
    "+89\n",
    "n"
   ]
  },
  {
   "cell_type": "code",
   "execution_count": 25,
   "id": "002c1bc3",
   "metadata": {},
   "outputs": [
    {
     "data": {
      "text/plain": [
       "'t'"
      ]
     },
     "execution_count": 25,
     "metadata": {},
     "output_type": "execute_result"
    }
   ],
   "source": [
    "'Indentation'[5]"
   ]
  },
  {
   "cell_type": "code",
   "execution_count": 26,
   "id": "dee1ffca",
   "metadata": {},
   "outputs": [
    {
     "data": {
      "text/plain": [
       "'t'"
      ]
     },
     "execution_count": 26,
     "metadata": {},
     "output_type": "execute_result"
    }
   ],
   "source": [
    "\"Indentation\"[7]"
   ]
  },
  {
   "cell_type": "code",
   "execution_count": 31,
   "id": "b34d65b7",
   "metadata": {},
   "outputs": [
    {
     "data": {
      "text/plain": [
       "False"
      ]
     },
     "execution_count": 31,
     "metadata": {},
     "output_type": "execute_result"
    }
   ],
   "source": [
    "not True or False"
   ]
  },
  {
   "cell_type": "code",
   "execution_count": 32,
   "id": "a9c04a9f",
   "metadata": {},
   "outputs": [
    {
     "name": "stdout",
     "output_type": "stream",
     "text": [
      "Hi, I'm Virgin\n"
     ]
    }
   ],
   "source": [
    "if (5!=0):\n",
    "    print(\"Hi, I'm Virgin\")\n",
    "else:\n",
    "    print(\"Stfu\")"
   ]
  },
  {
   "cell_type": "code",
   "execution_count": 35,
   "id": "21d2c466",
   "metadata": {},
   "outputs": [
    {
     "name": "stdout",
     "output_type": "stream",
     "text": [
      "Go to hell\n"
     ]
    }
   ],
   "source": [
    "def compare_to_eight(a):\n",
    "    if a>10:\n",
    "        return \"Go to hell\"\n",
    "    elif a<10:\n",
    "        return \"Welcome\"\n",
    "    else:\n",
    "        return \"Nintendo Switch\"\n",
    "print (compare_to_eight(99))    "
   ]
  },
  {
   "cell_type": "code",
   "execution_count": 37,
   "id": "125447c2",
   "metadata": {},
   "outputs": [
    {
     "data": {
      "text/plain": [
       "10"
      ]
     },
     "execution_count": 37,
     "metadata": {},
     "output_type": "execute_result"
    }
   ],
   "source": [
    "def fun(j,k):\n",
    "    if j>=10:\n",
    "        return j\n",
    "    else:\n",
    "        return k\n",
    "j=5*2\n",
    "k=0\n",
    "fun(j,k)\n"
   ]
  },
  {
   "cell_type": "code",
   "execution_count": 1,
   "id": "a3fa96e0",
   "metadata": {},
   "outputs": [
    {
     "data": {
      "text/plain": [
       "(200, 250)"
      ]
     },
     "execution_count": 1,
     "metadata": {},
     "output_type": "execute_result"
    }
   ],
   "source": [
    "def wage(w_hours):\n",
    "    return w_hours*25\n",
    "def with_bonus(w_hours):\n",
    "    return wage(w_hours)+50\n",
    "wage(8),with_bonus(8)"
   ]
  },
  {
   "cell_type": "code",
   "execution_count": 3,
   "id": "7d60a23a",
   "metadata": {},
   "outputs": [
    {
     "data": {
      "text/plain": [
       "250"
      ]
     },
     "execution_count": 3,
     "metadata": {},
     "output_type": "execute_result"
    }
   ],
   "source": [
    "def add_10(m):\n",
    "    if m>=100:\n",
    "        m=m+100\n",
    "        return m\n",
    "    else:\n",
    "        return \"Save More\"\n",
    "    \n",
    "add_10(150)\n",
    "    \n"
   ]
  },
  {
   "cell_type": "code",
   "execution_count": 4,
   "id": "b061a852",
   "metadata": {},
   "outputs": [
    {
     "data": {
      "text/plain": [
       "'Save More'"
      ]
     },
     "execution_count": 4,
     "metadata": {},
     "output_type": "execute_result"
    }
   ],
   "source": [
    "add_10(90)"
   ]
  },
  {
   "cell_type": "code",
   "execution_count": 5,
   "id": "92cd1a4b",
   "metadata": {},
   "outputs": [
    {
     "name": "stdout",
     "output_type": "stream",
     "text": [
      "Krishna\n"
     ]
    }
   ],
   "source": [
    "print('Krishna')"
   ]
  },
  {
   "cell_type": "code",
   "execution_count": 14,
   "id": "0dfb6af6",
   "metadata": {},
   "outputs": [
    {
     "data": {
      "text/plain": [
       "15"
      ]
     },
     "execution_count": 14,
     "metadata": {},
     "output_type": "execute_result"
    }
   ],
   "source": [
    "def main(p,q,r):\n",
    "    return p+q*r\n",
    "main(3,3,4)"
   ]
  },
  {
   "cell_type": "code",
   "execution_count": null,
   "id": "274eb076",
   "metadata": {},
   "outputs": [],
   "source": []
  }
 ],
 "metadata": {
  "kernelspec": {
   "display_name": "Python 3 (ipykernel)",
   "language": "python",
   "name": "python3"
  },
  "language_info": {
   "codemirror_mode": {
    "name": "ipython",
    "version": 3
   },
   "file_extension": ".py",
   "mimetype": "text/x-python",
   "name": "python",
   "nbconvert_exporter": "python",
   "pygments_lexer": "ipython3",
   "version": "3.9.7"
  }
 },
 "nbformat": 4,
 "nbformat_minor": 5
}
