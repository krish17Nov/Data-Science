{
 "cells": [
  {
   "cell_type": "code",
   "execution_count": 2,
   "id": "e4056268",
   "metadata": {},
   "outputs": [
    {
     "data": {
      "text/plain": [
       "['chipps', 'coke', 'bread', 'biscuit']"
      ]
     },
     "execution_count": 2,
     "metadata": {},
     "output_type": "execute_result"
    }
   ],
   "source": [
    "items= ['chipps', 'coke', 'bread', 'biscuit']\n",
    "items"
   ]
  },
  {
   "cell_type": "code",
   "execution_count": 3,
   "id": "b641fc14",
   "metadata": {},
   "outputs": [
    {
     "name": "stdout",
     "output_type": "stream",
     "text": [
      "biscuit\n"
     ]
    }
   ],
   "source": [
    "print(items[3])\n"
   ]
  },
  {
   "cell_type": "code",
   "execution_count": 7,
   "id": "d945efa1",
   "metadata": {},
   "outputs": [
    {
     "data": {
      "text/plain": [
       "['chipps', 'Toffee', 'bread', 'biscuit']"
      ]
     },
     "execution_count": 7,
     "metadata": {},
     "output_type": "execute_result"
    }
   ],
   "source": [
    "items[1]='Toffee'\n",
    "items"
   ]
  },
  {
   "cell_type": "code",
   "execution_count": 8,
   "id": "091803ba",
   "metadata": {},
   "outputs": [],
   "source": [
    "items.append('Toffee')"
   ]
  },
  {
   "cell_type": "code",
   "execution_count": 9,
   "id": "73e5648f",
   "metadata": {},
   "outputs": [
    {
     "data": {
      "text/plain": [
       "['chipps', 'Toffee', 'bread', 'biscuit', 'Toffee']"
      ]
     },
     "execution_count": 9,
     "metadata": {},
     "output_type": "execute_result"
    }
   ],
   "source": [
    "items"
   ]
  },
  {
   "cell_type": "code",
   "execution_count": 11,
   "id": "d4acc4da",
   "metadata": {},
   "outputs": [
    {
     "data": {
      "text/plain": [
       "['chipps', 'Toffee', 'bread', 'biscuit', 'Toffee', 'Bag', 'polybags', 'paper']"
      ]
     },
     "execution_count": 11,
     "metadata": {},
     "output_type": "execute_result"
    }
   ],
   "source": [
    "items.extend(['Bag','polybags','paper'])\n",
    "items"
   ]
  },
  {
   "cell_type": "code",
   "execution_count": 12,
   "id": "b37a8d88",
   "metadata": {},
   "outputs": [
    {
     "data": {
      "text/plain": [
       "7"
      ]
     },
     "execution_count": 12,
     "metadata": {},
     "output_type": "execute_result"
    }
   ],
   "source": [
    "len('Krishna')"
   ]
  },
  {
   "cell_type": "code",
   "execution_count": 14,
   "id": "acf7757b",
   "metadata": {},
   "outputs": [
    {
     "data": {
      "text/plain": [
       "8"
      ]
     },
     "execution_count": 14,
     "metadata": {},
     "output_type": "execute_result"
    }
   ],
   "source": [
    "len(items)"
   ]
  },
  {
   "cell_type": "code",
   "execution_count": 15,
   "id": "e2e68faf",
   "metadata": {},
   "outputs": [
    {
     "data": {
      "text/plain": [
       "['bread', 'biscuit', 'Toffee']"
      ]
     },
     "execution_count": 15,
     "metadata": {},
     "output_type": "execute_result"
    }
   ],
   "source": [
    "items[2:5]"
   ]
  },
  {
   "cell_type": "code",
   "execution_count": 16,
   "id": "107ea679",
   "metadata": {},
   "outputs": [
    {
     "data": {
      "text/plain": [
       "['biscuit', 'Toffee', 'Bag', 'polybags', 'paper']"
      ]
     },
     "execution_count": 16,
     "metadata": {},
     "output_type": "execute_result"
    }
   ],
   "source": [
    "items[3:]"
   ]
  },
  {
   "cell_type": "code",
   "execution_count": 17,
   "id": "2cdafb4b",
   "metadata": {},
   "outputs": [
    {
     "data": {
      "text/plain": [
       "['Bag', 'polybags', 'paper']"
      ]
     },
     "execution_count": 17,
     "metadata": {},
     "output_type": "execute_result"
    }
   ],
   "source": [
    "items[-3:]"
   ]
  },
  {
   "cell_type": "code",
   "execution_count": 18,
   "id": "09e8d797",
   "metadata": {},
   "outputs": [
    {
     "data": {
      "text/plain": [
       "6"
      ]
     },
     "execution_count": 18,
     "metadata": {},
     "output_type": "execute_result"
    }
   ],
   "source": [
    "items.index('polybags')"
   ]
  },
  {
   "cell_type": "code",
   "execution_count": 20,
   "id": "8ec8a860",
   "metadata": {},
   "outputs": [
    {
     "data": {
      "text/plain": [
       "[['chipps',\n",
       "  'Toffee',\n",
       "  'bread',\n",
       "  'biscuit',\n",
       "  'Toffee',\n",
       "  'Bag',\n",
       "  'polybags',\n",
       "  'paper'],\n",
       " ['spoon', 'plate', 'bowl', 'tumbler']]"
      ]
     },
     "execution_count": 20,
     "metadata": {},
     "output_type": "execute_result"
    }
   ],
   "source": [
    "New_items=['spoon','plate','bowl','tumbler']\n",
    "Bigger_list=[items,New_items]\n",
    "Bigger_list"
   ]
  },
  {
   "cell_type": "code",
   "execution_count": 21,
   "id": "6eb87c94",
   "metadata": {},
   "outputs": [
    {
     "data": {
      "text/plain": [
       "[['chipps',\n",
       "  'Toffee',\n",
       "  'bread',\n",
       "  'biscuit',\n",
       "  'Toffee',\n",
       "  'Bag',\n",
       "  'polybags',\n",
       "  'paper'],\n",
       " ['spoon', 'plate', 'bowl', 'tumbler']]"
      ]
     },
     "execution_count": 21,
     "metadata": {},
     "output_type": "execute_result"
    }
   ],
   "source": [
    "Bigger_list.sort()\n",
    "Bigger_list"
   ]
  },
  {
   "cell_type": "code",
   "execution_count": 22,
   "id": "72e5b175",
   "metadata": {},
   "outputs": [
    {
     "data": {
      "text/plain": [
       "[['spoon', 'plate', 'bowl', 'tumbler'],\n",
       " ['chipps',\n",
       "  'Toffee',\n",
       "  'bread',\n",
       "  'biscuit',\n",
       "  'Toffee',\n",
       "  'Bag',\n",
       "  'polybags',\n",
       "  'paper']]"
      ]
     },
     "execution_count": 22,
     "metadata": {},
     "output_type": "execute_result"
    }
   ],
   "source": [
    "Bigger_list.sort(reverse=True)\n",
    "Bigger_list"
   ]
  },
  {
   "cell_type": "code",
   "execution_count": 24,
   "id": "644a46db",
   "metadata": {},
   "outputs": [
    {
     "data": {
      "text/plain": [
       "[['chipps',\n",
       "  'Toffee',\n",
       "  'bread',\n",
       "  'biscuit',\n",
       "  'Toffee',\n",
       "  'Bag',\n",
       "  'polybags',\n",
       "  'paper'],\n",
       " ['tumbler', 'spoon', 'plate', 'bowl']]"
      ]
     },
     "execution_count": 24,
     "metadata": {},
     "output_type": "execute_result"
    }
   ],
   "source": [
    "New_items.sort(reverse=True)\n",
    "Bigger_list.sort(reverse=False)\n",
    "Bigger_list"
   ]
  },
  {
   "cell_type": "code",
   "execution_count": 25,
   "id": "9d77288e",
   "metadata": {},
   "outputs": [],
   "source": [
    "x=(1,2,3)"
   ]
  },
  {
   "cell_type": "code",
   "execution_count": 26,
   "id": "fbe275a0",
   "metadata": {},
   "outputs": [
    {
     "data": {
      "text/plain": [
       "(1, 2, 3)"
      ]
     },
     "execution_count": 26,
     "metadata": {},
     "output_type": "execute_result"
    }
   ],
   "source": [
    "x"
   ]
  },
  {
   "cell_type": "code",
   "execution_count": 27,
   "id": "bca9a219",
   "metadata": {},
   "outputs": [
    {
     "data": {
      "text/plain": [
       "[(1, 2, 3), (5, 6, 7)]"
      ]
     },
     "execution_count": 27,
     "metadata": {},
     "output_type": "execute_result"
    }
   ],
   "source": [
    "y=(5,6,7)\n",
    "List=[x,y]\n",
    "List"
   ]
  },
  {
   "cell_type": "code",
   "execution_count": 28,
   "id": "5c892c8a",
   "metadata": {},
   "outputs": [
    {
     "name": "stdout",
     "output_type": "stream",
     "text": [
      "18\n"
     ]
    }
   ],
   "source": [
    "(age,school_years)='18,30'.split(',')\n",
    "print(age)"
   ]
  },
  {
   "cell_type": "code",
   "execution_count": 29,
   "id": "b4fc429e",
   "metadata": {},
   "outputs": [
    {
     "name": "stdout",
     "output_type": "stream",
     "text": [
      "30\n"
     ]
    }
   ],
   "source": [
    "print(school_years)"
   ]
  },
  {
   "cell_type": "code",
   "execution_count": 30,
   "id": "b53fc4ac",
   "metadata": {},
   "outputs": [
    {
     "data": {
      "text/plain": [
       "(16, 16)"
      ]
     },
     "execution_count": 30,
     "metadata": {},
     "output_type": "execute_result"
    }
   ],
   "source": [
    "def mensuration(x):\n",
    "    A=x**2\n",
    "    P=4*x\n",
    "    return A,P\n",
    "mensuration(4)"
   ]
  },
  {
   "cell_type": "code",
   "execution_count": 31,
   "id": "488e2d49",
   "metadata": {},
   "outputs": [
    {
     "data": {
      "text/plain": [
       "'43'"
      ]
     },
     "execution_count": 31,
     "metadata": {},
     "output_type": "execute_result"
    }
   ],
   "source": [
    "dict={'krishna':'44','kiran':'43','khirad':'42','madhur':'45','madhur':'46','manav':'47'}\n",
    "dict['kiran']"
   ]
  },
  {
   "cell_type": "code",
   "execution_count": 32,
   "id": "8c0bfd6c",
   "metadata": {},
   "outputs": [
    {
     "ename": "KeyError",
     "evalue": "'44'",
     "output_type": "error",
     "traceback": [
      "\u001b[1;31m---------------------------------------------------------------------------\u001b[0m",
      "\u001b[1;31mKeyError\u001b[0m                                  Traceback (most recent call last)",
      "\u001b[1;32mC:\\Users\\LENOVO~1\\AppData\\Local\\Temp/ipykernel_760/2259272593.py\u001b[0m in \u001b[0;36m<module>\u001b[1;34m\u001b[0m\n\u001b[1;32m----> 1\u001b[1;33m \u001b[0mdict\u001b[0m\u001b[1;33m[\u001b[0m\u001b[1;34m'44'\u001b[0m\u001b[1;33m]\u001b[0m\u001b[1;33m\u001b[0m\u001b[1;33m\u001b[0m\u001b[0m\n\u001b[0m",
      "\u001b[1;31mKeyError\u001b[0m: '44'"
     ]
    }
   ],
   "source": [
    "dict['44']"
   ]
  },
  {
   "cell_type": "code",
   "execution_count": 33,
   "id": "5927f3f6",
   "metadata": {},
   "outputs": [
    {
     "data": {
      "text/plain": [
       "{'krishna': '44',\n",
       " 'kiran': '43',\n",
       " 'khirad': '42',\n",
       " 'madhur': '46',\n",
       " 'manav': '47',\n",
       " 'keshav': '41'}"
      ]
     },
     "execution_count": 33,
     "metadata": {},
     "output_type": "execute_result"
    }
   ],
   "source": [
    "dict['keshav']='41'\n",
    "dict"
   ]
  },
  {
   "cell_type": "code",
   "execution_count": 35,
   "id": "da316955",
   "metadata": {},
   "outputs": [
    {
     "ename": "IndentationError",
     "evalue": "unexpected indent (Temp/ipykernel_760/1700002120.py, line 2)",
     "output_type": "error",
     "traceback": [
      "\u001b[1;36m  File \u001b[1;32m\"C:\\Users\\LENOVO~1\\AppData\\Local\\Temp/ipykernel_760/1700002120.py\"\u001b[1;36m, line \u001b[1;32m2\u001b[0m\n\u001b[1;33m    dept_emp['d2']\u001b[0m\n\u001b[1;37m    ^\u001b[0m\n\u001b[1;31mIndentationError\u001b[0m\u001b[1;31m:\u001b[0m unexpected indent\n"
     ]
    }
   ],
   "source": [
    " dept_emp={'d1':['krishna','kiran','khirad'],'d2':['naina','devansh','saumya']}\n",
    "    dept_emp['d2']"
   ]
  },
  {
   "cell_type": "code",
   "execution_count": 37,
   "id": "c6adf1b1",
   "metadata": {},
   "outputs": [
    {
     "ename": "NameError",
     "evalue": "name 'dept_emp' is not defined",
     "output_type": "error",
     "traceback": [
      "\u001b[1;31m---------------------------------------------------------------------------\u001b[0m",
      "\u001b[1;31mNameError\u001b[0m                                 Traceback (most recent call last)",
      "\u001b[1;32mC:\\Users\\LENOVO~1\\AppData\\Local\\Temp/ipykernel_760/3321871030.py\u001b[0m in \u001b[0;36m<module>\u001b[1;34m\u001b[0m\n\u001b[1;32m----> 1\u001b[1;33m \u001b[0mdept_emp\u001b[0m\u001b[1;33m[\u001b[0m\u001b[1;34m'd2'\u001b[0m\u001b[1;33m]\u001b[0m\u001b[1;33m\u001b[0m\u001b[1;33m\u001b[0m\u001b[0m\n\u001b[0m",
      "\u001b[1;31mNameError\u001b[0m: name 'dept_emp' is not defined"
     ]
    }
   ],
   "source": [
    "dept_emp['d2']"
   ]
  },
  {
   "cell_type": "code",
   "execution_count": null,
   "id": "22623503",
   "metadata": {},
   "outputs": [],
   "source": []
  }
 ],
 "metadata": {
  "kernelspec": {
   "display_name": "Python 3 (ipykernel)",
   "language": "python",
   "name": "python3"
  },
  "language_info": {
   "codemirror_mode": {
    "name": "ipython",
    "version": 3
   },
   "file_extension": ".py",
   "mimetype": "text/x-python",
   "name": "python",
   "nbconvert_exporter": "python",
   "pygments_lexer": "ipython3",
   "version": "3.9.7"
  }
 },
 "nbformat": 4,
 "nbformat_minor": 5
}
